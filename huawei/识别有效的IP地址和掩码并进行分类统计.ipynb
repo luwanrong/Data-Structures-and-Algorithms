{
 "cells": [
  {
   "cell_type": "code",
   "execution_count": 1,
   "metadata": {},
   "outputs": [],
   "source": [
    "import re"
   ]
  },
  {
   "cell_type": "code",
   "execution_count": 37,
   "metadata": {},
   "outputs": [],
   "source": [
    "import re\n",
    "def check_ip(ips):\n",
    "    if (bool(re.search(r'^(((25[0-5]|2[0-4]\\d|1\\d{2})|([1-9]?\\d))\\.){3}((25[0-5]|2[0-4]\\d|1\\d{2})|([1-9]?\\d))$',ips))):\n",
    "        return True\n",
    "    else:\n",
    "        return False\n",
    "def check_mask(mk):#mk ='255.55.255.0'\n",
    "    if (bool(re.search(r'^(((25[0-5]|2[0-4]\\d|1\\d{2})|([1-9]?\\d))\\.){3}((25[0-5]|2[0-4]\\d|1\\d{2})|([1-9]?\\d))$',mk))):\n",
    "        ms = \"\".join(map(lambda x: bin(int(x))[2:].zfill(8), mk.split(\".\")))\n",
    "        print(ms)\n",
    "        m = 0#用来存贮 1 的位置        \n",
    "        for j,_ in enumerate(ms):#找ms中最后一个1 的位置\n",
    "            if ms[j] == '1':\n",
    "                m = j\n",
    "        n = 0#存第一个0的位置\n",
    "        for u,_ in enumerate(ms):#找ms中最后一个1 的位置\n",
    "            if ms[u] == '0':\n",
    "                n = u\n",
    "                break\n",
    "        if (m - n) == -1:\n",
    "            return True\n",
    "        else:\n",
    "            return False\n",
    "   \n",
    "    else:\n",
    "        return False\n",
    "A=0\n",
    "B=0\n",
    "C=0\n",
    "D=0\n",
    "E=0\n",
    "err=0\n",
    "pri=0\n",
    "\n",
    "while True:\n",
    "    str1 = input()\n",
    "    if str1 == '':\n",
    "        break\n",
    "    ips = str1.split('~')[0]\n",
    "    mk = str1.split('~')[1]\n",
    "    ip = ips.split('.')\n",
    "    #print(ip)\n",
    "    if check_mask(mk) and check_ip(ips):\n",
    "        if 1 <= int(ip[0]) <= 126:\n",
    "            A += 1\n",
    "        if 128 <= int(ip[0]) <= 191:\n",
    "            B += 1\n",
    "        if 192 <= int(ip[0]) <= 223:\n",
    "            C += 1\n",
    "        if 224 <= int(ip[0]) <= 239:\n",
    "            D += 1\n",
    "        if 240 <= int(ip[0]) <= 255:\n",
    "            E += 1\n",
    "        if int(ip[0])==10 or (int(ip[0])==172 and 15<int(ip[1])<32) or (int(ip[0])==192 and int(ip[1])==168):\n",
    "            pri += 1\n",
    "        \n",
    "    else:\n",
    "        err+=1\n",
    "print('%d %d %d %d %d %d %d' % (A,B,C,D,E,err,pri))"
   ]
  },
  {
   "cell_type": "code",
   "execution_count": 39,
   "metadata": {},
   "outputs": [
    {
     "name": "stdout",
     "output_type": "stream",
     "text": [
      "10.70.44.68~255.254.255.0\n",
      "['10', '70', '44', '68']\n",
      "1111111111111110111111110\n",
      "1.0.0.1~255.0.0.0\n",
      "['1', '0', '0', '1']\n",
      "11111111000\n",
      "192.168.0.2~255.255.255.0\n",
      "['192', '168', '0', '2']\n",
      "1111111111111111111111110\n",
      "19..0.~255.255.255.0\n",
      "['19', '', '0', '']\n",
      "1111111111111111111111110\n",
      "\n",
      "1 0 1 0 0 2 1\n"
     ]
    }
   ],
   "source": [
    "import re\n",
    "A=0\n",
    "B=0\n",
    "C=0\n",
    "D=0\n",
    "E=0\n",
    "err=0\n",
    "pri=0\n",
    "\n",
    "while True:\n",
    "    str1 = input()\n",
    "    if str1 == '':\n",
    "        break\n",
    "    ips = str1.split('~')[0]\n",
    "    mk = str1.split('~')[1]\n",
    "    ip = ips.split('.')\n",
    "    #print(ip)\n",
    "    if check_mask(mk) and check_ip(ips):\n",
    "        if 1 <= int(ip[0]) <= 126:\n",
    "            A += 1\n",
    "        if 128 <= int(ip[0]) <= 191:\n",
    "            B += 1\n",
    "        if 192 <= int(ip[0]) <= 223:\n",
    "            C += 1\n",
    "        if 224 <= int(ip[0]) <= 239:\n",
    "            D += 1\n",
    "        if 240 <= int(ip[0]) <= 255:\n",
    "            E += 1\n",
    "        if int(ip[0])==10 or (int(ip[0])==172 and 15<int(ip[1])<32) or (int(ip[0])==192 and int(ip[1])==168):\n",
    "            pri += 1\n",
    "        \n",
    "    else:\n",
    "        err+=1\n",
    "print('%d %d %d %d %d %d %d' % (A,B,C,D,E,err,pri))"
   ]
  },
  {
   "cell_type": "code",
   "execution_count": 174,
   "metadata": {},
   "outputs": [
    {
     "name": "stdout",
     "output_type": "stream",
     "text": [
      "1111111111111111111111110\n",
      "23\n",
      "24\n"
     ]
    },
    {
     "data": {
      "text/plain": [
       "True"
      ]
     },
     "execution_count": 174,
     "metadata": {},
     "output_type": "execute_result"
    }
   ],
   "source": [
    "10.70.44.68~255.254.255.0\n",
    "1.0.0.1~255.0.0.0\n",
    "192.168.0.2~255.255.255.0\n",
    "19..0.~255.255.255.0"
   ]
  },
  {
   "cell_type": "code",
   "execution_count": 43,
   "metadata": {},
   "outputs": [
    {
     "data": {
      "text/plain": [
       "True"
      ]
     },
     "execution_count": 43,
     "metadata": {},
     "output_type": "execute_result"
    }
   ],
   "source": [
    "check_ip('255.255.255.255')"
   ]
  },
  {
   "cell_type": "code",
   "execution_count": 51,
   "metadata": {},
   "outputs": [
    {
     "name": "stdout",
     "output_type": "stream",
     "text": [
      "0000\n"
     ]
    },
    {
     "data": {
      "text/plain": [
       "False"
      ]
     },
     "execution_count": 51,
     "metadata": {},
     "output_type": "execute_result"
    }
   ],
   "source": [
    "check_mask('0.0.0.0')"
   ]
  },
  {
   "cell_type": "code",
   "execution_count": 55,
   "metadata": {},
   "outputs": [],
   "source": [
    "def check_ip(ip):\n",
    "    if len(ip) !=4 and '' in ip:\n",
    "        return False\n",
    "    else:\n",
    "        for i in range(4):\n",
    "            if int(ip[i])<0 or int(ip[i])>255:\n",
    "                return False\n",
    "        else:\n",
    "            return True"
   ]
  },
  {
   "cell_type": "code",
   "execution_count": 57,
   "metadata": {},
   "outputs": [
    {
     "name": "stdout",
     "output_type": "stream",
     "text": [
      "0\n",
      "1\n",
      "2\n",
      "3\n"
     ]
    },
    {
     "data": {
      "text/plain": [
       "False"
      ]
     },
     "execution_count": 57,
     "metadata": {},
     "output_type": "execute_result"
    }
   ],
   "source": [
    "ip = '0.0.0.256'.split('.')\n",
    "check_ip(ip)"
   ]
  },
  {
   "cell_type": "code",
   "execution_count": 59,
   "metadata": {},
   "outputs": [
    {
     "data": {
      "text/plain": [
       "'11111111000000000000000000000000'"
      ]
     },
     "execution_count": 59,
     "metadata": {},
     "output_type": "execute_result"
    }
   ],
   "source": [
    "Mask = '255.0.0.0'\n",
    "\"\".join(map(lambda x: bin(int(x))[2:].zfill(8), Mask.split(\".\")))"
   ]
  },
  {
   "cell_type": "code",
   "execution_count": 8,
   "metadata": {},
   "outputs": [
    {
     "name": "stdout",
     "output_type": "stream",
     "text": [
      "\n",
      "0 0 0 0 0 0 0\n"
     ]
    }
   ],
   "source": [
    "import re\n",
    "def check_ip(ips):\n",
    "    if (bool(re.search(r'(([0-1]{0,1}\\d{0,1}\\d|2[0-4]\\d|25[0-5])\\.){3}([0-1]{0,1}\\d{0,1}\\d|2[0-4]\\d|25[0-5])$',ips))):\n",
    "        return True\n",
    "    else:\n",
    "        return False\n",
    "def check_mask(mk):\n",
    "    ms = ''\n",
    "    if (bool(re.search(r'(([0-1]{0,1}\\d{0,1}\\d|2[0-4]\\d|25[0-5])\\.){3}([0-1]{0,1}\\d{0,1}\\d|2[0-4]\\d|25[0-5])$',mk))):\n",
    "        for i in mk.split(\".\"):\n",
    "            if len(bin(int(i))[2:])!= 8:\n",
    "                ms = ms+('0'*(8-len(bin(int(i))[2:])) + bin(int(i))[2:])\n",
    "            else:\n",
    "                ms += bin(int(i))[2:]\n",
    "        print(ms)\n",
    "        print(len(ms))\n",
    "        m = 0#用来存贮 1 的位置        \n",
    "        for j,_ in enumerate(ms):#找ms中最后一个1 的位置\n",
    "            if ms[j] == '1':\n",
    "                m = j\n",
    "        n = 0#存第一个0的位置\n",
    "        for u,_ in enumerate(ms):#找ms中最后一个1 的位置\n",
    "            if ms[u] == '0':\n",
    "                n = u\n",
    "                break\n",
    "        if (m - n) == -1:\n",
    "            return True\n",
    "        else:\n",
    "            return False\n",
    "   \n",
    "    else:\n",
    "        return False\n",
    "A=0\n",
    "B=0\n",
    "C=0\n",
    "D=0\n",
    "E=0\n",
    "err=0\n",
    "pri=0\n",
    "import sys\n",
    "while True:\n",
    "    str1 = input()\n",
    "    if str1 == '':\n",
    "        break\n",
    "    ips = str1.split('~')[0]\n",
    "    mk = str1.split('~')[1]\n",
    "    ip = ips.split('.')\n",
    "    #print(ip)\n",
    "    if check_mask(mk) and check_ip(ips):\n",
    "        if 1 <= int(ip[0]) <= 126:\n",
    "            A += 1\n",
    "        if 128 <= int(ip[0]) <= 191:\n",
    "            B += 1\n",
    "        if 192 <= int(ip[0]) <= 223:\n",
    "            C += 1\n",
    "        if 224 <= int(ip[0]) <= 239:\n",
    "            D += 1\n",
    "        if 240 <= int(ip[0]) <= 255:\n",
    "            E += 1\n",
    "        if int(ip[0])==10 or (int(ip[0])==172 and 15<int(ip[1])<32) or (int(ip[0])==192 and int(ip[1])==168):\n",
    "            pri += 1\n",
    "        \n",
    "    else:\n",
    "        err+=1\n",
    "print('%d %d %d %d %d %d %d' % (A,B,C,D,E,err,pri))"
   ]
  },
  {
   "cell_type": "code",
   "execution_count": 11,
   "metadata": {},
   "outputs": [
    {
     "name": "stdout",
     "output_type": "stream",
     "text": [
      "11111111111111111111111100000000\n",
      "32\n"
     ]
    },
    {
     "data": {
      "text/plain": [
       "True"
      ]
     },
     "execution_count": 11,
     "metadata": {},
     "output_type": "execute_result"
    }
   ],
   "source": [
    "check_mask('255.255.255.0')"
   ]
  },
  {
   "cell_type": "code",
   "execution_count": null,
   "metadata": {},
   "outputs": [],
   "source": []
  }
 ],
 "metadata": {
  "kernelspec": {
   "display_name": "Python 3",
   "language": "python",
   "name": "python3"
  },
  "language_info": {
   "codemirror_mode": {
    "name": "ipython",
    "version": 3
   },
   "file_extension": ".py",
   "mimetype": "text/x-python",
   "name": "python",
   "nbconvert_exporter": "python",
   "pygments_lexer": "ipython3",
   "version": "3.6.5"
  }
 },
 "nbformat": 4,
 "nbformat_minor": 2
}
