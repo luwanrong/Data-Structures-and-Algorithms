{
 "cells": [
  {
   "cell_type": "code",
   "execution_count": 36,
   "metadata": {},
   "outputs": [
    {
     "name": "stdout",
     "output_type": "stream",
     "text": [
      "E:\\V1R2\\product\\fpgadrive.c   1325\n",
      "E:\\V1R2\\product\\fpgadrive.c   1325\n",
      "E:\\V1R2\\product\\fpgadrive.c   1324\n",
      "E:\\V1R2\\product\\fpgadriv.c   1325\n",
      "E:\\V1R2\\product\\fpgadriv.c   1325\n",
      "E:\\V1R2\\product\\gadriv.c   13\n",
      "E:\\V1R2\\product\\gadriv.c   13\n",
      "\n"
     ]
    }
   ],
   "source": [
    "dic = {}\n",
    "while True:\n",
    "    str1 = input()\n",
    "    if str1 == '':\n",
    "        break\n",
    "    add = str1.split()[0]\n",
    "    ids  = str1.split()[1]\n",
    "    name = add.split('\\\\')[-1][-16:]\n",
    "    keys= name + ' ' + ids\n",
    "    if keys in dic.keys():\n",
    "        dic[keys]  += 1\n",
    "    else:\n",
    "        dic[keys]  = 1\n",
    "        \n",
    "for i in dic:\n",
    "    print(i,dic[i])\n"
   ]
  },
  {
   "cell_type": "code",
   "execution_count": null,
   "metadata": {},
   "outputs": [],
   "source": []
  },
  {
   "cell_type": "code",
   "execution_count": 45,
   "metadata": {},
   "outputs": [
    {
     "name": "stdout",
     "output_type": "stream",
     "text": [
      "\n"
     ]
    }
   ],
   "source": [
    "#这一段代码不能在牛客上面通过\n",
    "dic = {}\n",
    "while True:\n",
    "    try:       \n",
    "        str1 = input()\n",
    "        add = str1.split()[0]\n",
    "        ids  = str1.split()[1]\n",
    "        name = add.split('\\\\')[-1][-16:]\n",
    "        keys= name + ' ' + ids\n",
    "        if keys in dic.keys():\n",
    "            dic[keys]  += 1\n",
    "        else:\n",
    "            dic[keys]  = 1\n",
    "    except:\n",
    "        break\n",
    "def dict_slice(ori_dict, start, end):\n",
    "    slice_dict = {k: ori_dict[k] for k in list(ori_dict.keys())[start:end]}\n",
    "    return slice_dict\n",
    "new_dic = dict_slice(dic, -8, None)\n",
    "for i in new_dic:\n",
    "    print(i+ '' + str(dic[i]))\n",
    "#####################################################################\n",
    "#这一段代码可以通过\n",
    "dic = {}\n",
    "out = []\n",
    "while True:\n",
    "    try:\n",
    "        str1 = input()\n",
    " \n",
    "        add = str1.split()[0]\n",
    "        ids  = str1.split()[-1]\n",
    "        name = add.split('\\\\')[-1]\n",
    "        if len(name) >= 16:\n",
    "            name = name[-16:]\n",
    "        keys= name + ' ' + ids\n",
    "        if keys in dic.keys():\n",
    "            dic[keys] += 1\n",
    "        else:\n",
    "            dic[keys] = 1\n",
    "            out.append(keys)\n",
    " \n",
    "    except:\n",
    "        break\n",
    "for i in out[-8:]:\n",
    "    print(i + ' ' + str(dic[i]))"
   ]
  },
  {
   "cell_type": "code",
   "execution_count": null,
   "metadata": {},
   "outputs": [],
   "source": [
    "C:\\gtu\\vcy\\jk\\zwthkipl 636\n",
    "G:\\rsle\\lsax\\yalcxu\\vwhysms 637\n",
    "F:\\fzqz 640\n",
    "E:\\lswb\\styce\\thjnbxdvg 645\n",
    "F:\\up\\qflvvayylipvj 635\n",
    "C:\\pivw\\rkd 644\n",
    "E:\\tlkbjb\\pcvnvm\\qh\\fzqz 633\n",
    "E:\\ezke\\xvrdkuesnjerakzhs 641\n",
    "E:\\qflvvayylipvj 639\n",
    "F:\\ybpxk 644\n",
    "G:\\rfdr\\faxpyhyznsssbo 630\n",
    "E:\\xktax\\osekgaqy 646\n",
    "C:\\te 633\n",
    "G:\\albed\\ffc\\jclzfq\\h 631\n",
    "F:\\zsshil\\pkue\\mazocurlwufmkkrw 635\n",
    "E:\\dmj\\uefo\\syabgm\\qflvvayylipvj 643\n",
    "F:\\pgdiwvceluyzft 634\n",
    "D:\\xiqck\\dta\\lnh 639\n",
    "E:\\nu\\nz\\wwjpch\\fzqz 650\n",
    "E:\\gfsahypjzwfglvou 644\n",
    "G:\\qh\\thjnbxdvg 641\n",
    "C:\\cp\\voause\\mf\\hebgpyzpyyybiywpv 632\n",
    "E:\\de\\vet\\vdooytekbghohqz 631\n",
    "E:\\cox\\pvg\\tlrlr 640\n",
    "G:\\hkc\\fllkwmwlgiqahxbfs 638\n",
    "E:\\apjnogffvkwnv 637\n",
    "E:\\nldefh\\ar\\oqsb\\uyobrilaabapini 630\n",
    "F:\\wgotle\\ar\\wgh\\hebgpyzpyyybiywpv 639\n",
    "G:\\nrekjavm 634\n",
    "C:\\mvngfg\\lfjnvz\\xvrdkuesnjerakzhs 634\n",
    "F:\\exne\\vh\\kqh\\fzqz 641\n",
    "F:\\lepvz 642\n",
    "G:\\qg\\hcbh\\uknyte\\pgdiwvceluyzft 636\n",
    "F:\\ho\\cn\\uyobrilaabapini 637\n",
    "E:\\xbc\\fzqz 642\n",
    "G:\\ju\\nmdd\\fzqz 643\n",
    "G:\\lzpmdx\\rxp\\ybpxk 629\n",
    "D:\\fc\\lnh 629\n",
    "D:\\dsgvo\\zwthkipl 631\n",
    "G:\\pujc\\cgorfjzkqmnjathbiip 640\n",
    "G:\\vfhyp\\cs\\rrt 638 \n",
    "F:\\oteh\\ti\\urajfw\\tlrlr 636 \n",
    "C:\\crdp\\qwptjlorrmnv 642 \n",
    "D:\\kcl\\fqzs\\zlm\\pgdiwvceluyzft 640 \n",
    "G:\\faxpyhyznsssbo 639 \n",
    "D:\\swnhezhgdcwwbmkyqt 637 \n",
    "D:\\azo\\sry\\faxpyhyznsssbo 633 \n",
    "C:\\beqt\\eh\\dm\\dlhehjccfdgrrzyj 642 \n",
    "F:\\lepvz 635"
   ]
  },
  {
   "cell_type": "code",
   "execution_count": 47,
   "metadata": {},
   "outputs": [],
   "source": [
    "d = {}\n",
    "d['a'] = 1\n",
    "d['b'] = 0\n",
    "d['c'] = 1"
   ]
  },
  {
   "cell_type": "code",
   "execution_count": 48,
   "metadata": {},
   "outputs": [
    {
     "data": {
      "text/plain": [
       "{'a': 1, 'b': 0, 'c': 1}"
      ]
     },
     "execution_count": 48,
     "metadata": {},
     "output_type": "execute_result"
    }
   ],
   "source": [
    "d"
   ]
  },
  {
   "cell_type": "code",
   "execution_count": 50,
   "metadata": {},
   "outputs": [
    {
     "data": {
      "text/plain": [
       "{'a': 2, 'b': 0, 'c': 1}"
      ]
     },
     "execution_count": 50,
     "metadata": {},
     "output_type": "execute_result"
    }
   ],
   "source": [
    "d['a'] = d['a']\n",
    "d"
   ]
  },
  {
   "cell_type": "code",
   "execution_count": null,
   "metadata": {},
   "outputs": [],
   "source": []
  }
 ],
 "metadata": {
  "kernelspec": {
   "display_name": "Python 3",
   "language": "python",
   "name": "python3"
  },
  "language_info": {
   "codemirror_mode": {
    "name": "ipython",
    "version": 3
   },
   "file_extension": ".py",
   "mimetype": "text/x-python",
   "name": "python",
   "nbconvert_exporter": "python",
   "pygments_lexer": "ipython3",
   "version": "3.6.5"
  }
 },
 "nbformat": 4,
 "nbformat_minor": 2
}
