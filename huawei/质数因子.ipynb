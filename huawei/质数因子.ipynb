{
 "cells": [
  {
   "cell_type": "code",
   "execution_count": 25,
   "metadata": {},
   "outputs": [
    {
     "name": "stdout",
     "output_type": "stream",
     "text": [
      "1250\n",
      "2 5 5 5 5 \n",
      "1.6130921840667725\n"
     ]
    }
   ],
   "source": [
    "import time\n",
    "start = time.time()\n",
    "num = int(input())\n",
    "list1 = []\n",
    "for i in range(2,num+1):\n",
    "    while num % i == 0:\n",
    "        num = num / i\n",
    "        list1.append(i)\n",
    "print(' '.join(list(map(str,list1))) + ' ')\n",
    "print(time.time()-start)"
   ]
  },
  {
   "cell_type": "code",
   "execution_count": 27,
   "metadata": {},
   "outputs": [
    {
     "name": "stdout",
     "output_type": "stream",
     "text": [
      "10\n",
      "2 5 \n",
      "1.9841134548187256\n"
     ]
    }
   ],
   "source": [
    "import time\n",
    "start = time.time()\n",
    "num = int(input())\n",
    "list1 = []\n",
    "for i in range(2,num // 2 +1):\n",
    "    while num % i == 0:\n",
    "        num = num / i\n",
    "        list1.append(i)\n",
    "if not list1:\n",
    "    list1.append(str(num))\n",
    "print(' '.join(list(map(str,list1))) + ' ')\n",
    "print(time.time()-start)"
   ]
  },
  {
   "cell_type": "code",
   "execution_count": null,
   "metadata": {},
   "outputs": [],
   "source": []
  }
 ],
 "metadata": {
  "kernelspec": {
   "display_name": "Python 3",
   "language": "python",
   "name": "python3"
  },
  "language_info": {
   "codemirror_mode": {
    "name": "ipython",
    "version": 3
   },
   "file_extension": ".py",
   "mimetype": "text/x-python",
   "name": "python",
   "nbconvert_exporter": "python",
   "pygments_lexer": "ipython3",
   "version": "3.6.5"
  }
 },
 "nbformat": 4,
 "nbformat_minor": 2
}
