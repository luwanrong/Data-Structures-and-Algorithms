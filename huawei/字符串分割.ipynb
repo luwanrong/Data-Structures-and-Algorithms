{
 "cells": [
  {
   "cell_type": "code",
   "execution_count": 88,
   "metadata": {},
   "outputs": [],
   "source": [
    "\n",
    "def inputString():\n",
    "    str1 = str(input())\n",
    "    str2 = str(input())\n",
    "    \n",
    "    return str1,str2\n",
    "\n",
    "def splitString():\n",
    "    s1,s2 = inputString()\n",
    "    slist = [s1,s2]\n",
    "    arr = []\n",
    "    for i in slist:\n",
    "        if len(i)<=8:\n",
    "            arr.append(i+'0'*(8-len(i)))\n",
    "        else:\n",
    "            b=[i[i1:i1+8] for i1 in range(0,len(i),8)]\n",
    "            for j in b:\n",
    "                arr.append(j + '0'*(8-len(j)))\n",
    "                '''\n",
    "                if len(j)<8:\n",
    "                    arr.append(j + '0'*(8-len(b[-1])))\n",
    "                else:\n",
    "                    arr.append(j)\n",
    "                '''\n",
    "            b = []\n",
    "    return arr  "
   ]
  },
  {
   "cell_type": "code",
   "execution_count": 91,
   "metadata": {},
   "outputs": [
    {
     "name": "stdout",
     "output_type": "stream",
     "text": [
      "sdas\n",
      "8888ds8dsd8sdsdsd8888d8f8df88522ffdfdfdfd,v.\n",
      "sdas0000\n",
      "8888ds8d\n",
      "sd8sdsds\n",
      "d8888d8f\n",
      "8df88522\n",
      "ffdfdfdf\n",
      "d,v.0000\n"
     ]
    }
   ],
   "source": [
    "if __name__ == '__main__':\n",
    "    for i in splitString():\n",
    "        print(i)"
   ]
  },
  {
   "cell_type": "code",
   "execution_count": null,
   "metadata": {},
   "outputs": [],
   "source": [
    "987654321/4"
   ]
  },
  {
   "cell_type": "code",
   "execution_count": null,
   "metadata": {},
   "outputs": [],
   "source": []
  }
 ],
 "metadata": {
  "kernelspec": {
   "display_name": "Python 3",
   "language": "python",
   "name": "python3"
  },
  "language_info": {
   "codemirror_mode": {
    "name": "ipython",
    "version": 3
   },
   "file_extension": ".py",
   "mimetype": "text/x-python",
   "name": "python",
   "nbconvert_exporter": "python",
   "pygments_lexer": "ipython3",
   "version": "3.6.5"
  }
 },
 "nbformat": 4,
 "nbformat_minor": 2
}
