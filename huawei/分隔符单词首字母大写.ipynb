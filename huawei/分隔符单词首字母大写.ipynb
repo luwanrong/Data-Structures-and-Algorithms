{
 "cells": [
  {
   "cell_type": "code",
   "execution_count": 1,
   "metadata": {},
   "outputs": [],
   "source": [
    "def character():\n",
    "    s = str(input())\n",
    "    list1 = ['-','.',',','!',' ','\\\\t','\\\\']\n",
    "    list2 = []\n",
    "    for i in range(len(s)):\n",
    "        if s[i] in list1:\n",
    "            list2.append(i)\n",
    "    list3 = []\n",
    "    a = 0\n",
    "    for i in list2:\n",
    "        list3.append(s[a:i+1])\n",
    "        a = i+1\n",
    "        if i == list2[-1]:\n",
    "            list3.append(s[a:])\n",
    "    b = []       \n",
    "    for i in list3:\n",
    "        b.append(i.capitalize())\n",
    "        \n",
    "    return b\n"
   ]
  },
  {
   "cell_type": "code",
   "execution_count": 2,
   "metadata": {},
   "outputs": [
    {
     "name": "stdout",
     "output_type": "stream",
     "text": [
      "f g558,!l   ddf-f,sdf.f\n",
      "F G558,!L   Ddf-F,Sdf.F\n"
     ]
    }
   ],
   "source": [
    "if __name__ == '__main__':\n",
    "    print(''.join(character()))\n"
   ]
  },
  {
   "cell_type": "code",
   "execution_count": 2,
   "metadata": {},
   "outputs": [
    {
     "name": "stdout",
     "output_type": "stream",
     "text": [
      "f g558,!l   ddf-f,sdf.f\n",
      "F G558,!L   Ddf-F,Sdf.F\n",
      "f g558,!l   ddf-f,sdf.f\n",
      "F G558,!L   Ddf-F,Sdf.F\n",
      "\n",
      "\n",
      "\n",
      "\n",
      "f g558,!l   ddf-f,sdf.f\n",
      "F G558,!L   Ddf-F,Sdf.F\n",
      "\n"
     ]
    }
   ],
   "source": [
    "while True:\n",
    "    try:\n",
    "        s = str(input())\n",
    "        list1 = ['-','.',',','!',' ','\\\\t','\\\\']\n",
    "        list2 = []\n",
    "        for i in range(len(s)):\n",
    "            if s[i] in list1:\n",
    "                list2.append(i)\n",
    "        list3 = []\n",
    "        a = 0\n",
    "        for i in list2:\n",
    "            list3.append(s[a:i+1])\n",
    "            a = i+1\n",
    "            if i == list2[-1]:\n",
    "                list3.append(s[a:])\n",
    "        b = []       \n",
    "        for i in list3:\n",
    "            b.append(i.capitalize())\n",
    "        print(''.join(b))\n",
    "    except:\n",
    "        break"
   ]
  },
  {
   "cell_type": "code",
   "execution_count": 3,
   "metadata": {},
   "outputs": [],
   "source": [
    "s= '0x6'"
   ]
  },
  {
   "cell_type": "code",
   "execution_count": 4,
   "metadata": {},
   "outputs": [
    {
     "data": {
      "text/plain": [
       "'x6'"
      ]
     },
     "execution_count": 4,
     "metadata": {},
     "output_type": "execute_result"
    }
   ],
   "source": [
    "s[1:]"
   ]
  },
  {
   "cell_type": "code",
   "execution_count": 36,
   "metadata": {},
   "outputs": [
    {
     "name": "stdout",
     "output_type": "stream",
     "text": [
      "0x76e\n",
      "1902\n"
     ]
    }
   ],
   "source": [
    "def trans_d(str1):\n",
    "    str1 = str1.upper()\n",
    "    if str1.isalpha():\n",
    "        d = (ord(str1)-55)\n",
    "    else:\n",
    "        d = (int(str1))\n",
    "    return d\n",
    "\n",
    "str1 = str(input())[2:]\n",
    "num = len(str1)\n",
    "str1 = str1[::-1]\n",
    "res = 0\n",
    "for i in range(num):\n",
    "    res += trans_d(str1[i])*(16**i)\n",
    "\n",
    "print(res) "
   ]
  },
  {
   "cell_type": "code",
   "execution_count": 37,
   "metadata": {},
   "outputs": [
    {
     "data": {
      "text/plain": [
       "5.0"
      ]
     },
     "execution_count": 37,
     "metadata": {},
     "output_type": "execute_result"
    }
   ],
   "source": []
  },
  {
   "cell_type": "code",
   "execution_count": null,
   "metadata": {},
   "outputs": [],
   "source": []
  }
 ],
 "metadata": {
  "kernelspec": {
   "display_name": "Python 3",
   "language": "python",
   "name": "python3"
  },
  "language_info": {
   "codemirror_mode": {
    "name": "ipython",
    "version": 3
   },
   "file_extension": ".py",
   "mimetype": "text/x-python",
   "name": "python",
   "nbconvert_exporter": "python",
   "pygments_lexer": "ipython3",
   "version": "3.6.5"
  }
 },
 "nbformat": 4,
 "nbformat_minor": 2
}
