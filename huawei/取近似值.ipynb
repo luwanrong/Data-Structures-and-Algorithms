{
 "cells": [
  {
   "cell_type": "code",
   "execution_count": 3,
   "metadata": {},
   "outputs": [
    {
     "name": "stdout",
     "output_type": "stream",
     "text": [
      "5.31\n",
      "6\n"
     ]
    }
   ],
   "source": [
    "num = float(input())\n",
    "\n",
    "num_list = str(num).split('.')\n",
    "if int(num_list[-1]) >= 5:\n",
    "    print(int(num_list[0])+1)\n",
    "else:\n",
    "    print(int(num_list[0]))"
   ]
  },
  {
   "cell_type": "code",
   "execution_count": 5,
   "metadata": {},
   "outputs": [
    {
     "name": "stdout",
     "output_type": "stream",
     "text": [
      "5.5\n",
      "6\n"
     ]
    }
   ],
   "source": [
    "num = str(input())\n",
    "\n",
    "num_list = num.split('.')\n",
    "if int(num_list[-1]) >= 5:\n",
    "    num_list[0] = int(num_list[0])+1\n",
    "print(int(num_list[0]))"
   ]
  },
  {
   "cell_type": "code",
   "execution_count": 216,
   "metadata": {},
   "outputs": [
    {
     "name": "stdout",
     "output_type": "stream",
     "text": [
      "4\n",
      "0 1\n",
      "0 2\n",
      "1 2\n",
      "3 4\n",
      "0 3\n",
      "1 2\n",
      "3 4\n"
     ]
    }
   ],
   "source": [
    "num = int(input())\n",
    "dics = {}\n",
    "for i in range(num):\n",
    "    s = input()\n",
    "    nums = s.split()##把键值对字符串分割为 键和值\n",
    "    dics[int(nums[0])] = dics.get(int(nums[0]),0) +  int(nums[1])#dics.get(int(nums[0]),0)给字典的key = int(nums[0])的键的值初始化为0\n",
    "dic_list = sorted(dics.items(), key=lambda item:item[0])\n",
    "for n in dic_list:\n",
    "    print(' '.join(list(map(str,list(n)))))"
   ]
  },
  {
   "cell_type": "markdown",
   "metadata": {},
   "source": [
    "# 提取不重复的整数"
   ]
  },
  {
   "cell_type": "code",
   "execution_count": 229,
   "metadata": {},
   "outputs": [
    {
     "name": "stdout",
     "output_type": "stream",
     "text": [
      "2752771\n"
     ]
    }
   ],
   "source": [
    "num = input()[::-1]"
   ]
  },
  {
   "cell_type": "code",
   "execution_count": 230,
   "metadata": {},
   "outputs": [
    {
     "data": {
      "text/plain": [
       "'1772572'"
      ]
     },
     "execution_count": 230,
     "metadata": {},
     "output_type": "execute_result"
    }
   ],
   "source": [
    "num"
   ]
  },
  {
   "cell_type": "code",
   "execution_count": 231,
   "metadata": {},
   "outputs": [
    {
     "name": "stdout",
     "output_type": "stream",
     "text": [
      "2752771\n",
      "1725\n"
     ]
    }
   ],
   "source": [
    "num = input()[::-1]\n",
    "out_list = []\n",
    "for i in num:\n",
    "    if i not in out_list:\n",
    "        out_list.append(i)\n",
    "print(''.join(out_list))"
   ]
  },
  {
   "cell_type": "code",
   "execution_count": 232,
   "metadata": {},
   "outputs": [
    {
     "name": "stdout",
     "output_type": "stream",
     "text": [
      "2752771\n",
      "1572\n"
     ]
    }
   ],
   "source": [
    "# 从左到右遍历，最后将结果再翻转，得到的结果是错误的，因为 每个数字出现的顺序不一样，也就是说只有这一串数字对称是才会得到一样的结果\n",
    "num = input()\n",
    "out_list = []\n",
    "for i in num:\n",
    "    if i not in out_list:\n",
    "        out_list.append(i)\n",
    "print(''.join(out_list[::-1]))#将结果翻转"
   ]
  },
  {
   "cell_type": "markdown",
   "metadata": {},
   "source": [
    "# 字符个数统计"
   ]
  },
  {
   "cell_type": "code",
   "execution_count": 239,
   "metadata": {},
   "outputs": [
    {
     "name": "stdout",
     "output_type": "stream",
     "text": [
      "0\n"
     ]
    }
   ],
   "source": [
    "#字符在ACSII码范围内(0~127)\n",
    "num = input()\n",
    "dic = {}\n",
    "for i in num:\n",
    "    if ord(i) in range(128):\n",
    "        dic[ord(i)] = 0\n",
    "print(len(dic))"
   ]
  },
  {
   "cell_type": "code",
   "execution_count": 238,
   "metadata": {},
   "outputs": [],
   "source": [
    "import sys"
   ]
  },
  {
   "cell_type": "code",
   "execution_count": null,
   "metadata": {},
   "outputs": [],
   "source": [
    "sys.stdin.readline"
   ]
  }
 ],
 "metadata": {
  "kernelspec": {
   "display_name": "Python 3",
   "language": "python",
   "name": "python3"
  },
  "language_info": {
   "codemirror_mode": {
    "name": "ipython",
    "version": 3
   },
   "file_extension": ".py",
   "mimetype": "text/x-python",
   "name": "python",
   "nbconvert_exporter": "python",
   "pygments_lexer": "ipython3",
   "version": "3.6.5"
  }
 },
 "nbformat": 4,
 "nbformat_minor": 2
}
