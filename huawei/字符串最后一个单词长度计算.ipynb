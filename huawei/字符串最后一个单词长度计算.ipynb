{
 "cells": [
  {
   "cell_type": "code",
   "execution_count": null,
   "metadata": {},
   "outputs": [],
   "source": [
    "def length():\n",
    "    str1 = str(input())\n",
    "    list1 = str1.split(' ')\n",
    "    \n",
    "    return len(list1[-1])\n",
    "\n",
    "if __name__ == '__main__':\n",
    "    print(length())"
   ]
  },
  {
   "cell_type": "code",
   "execution_count": null,
   "metadata": {},
   "outputs": [],
   "source": [
    "#计算字符个数\n",
    "str1 = str(input())\n",
    "str2 = str(input())\n",
    "a = 0\n",
    "for i in str1:\n",
    "    if str2.upper() == i.upper():\n",
    "        a+=1\n",
    "print(a)"
   ]
  },
  {
   "cell_type": "code",
   "execution_count": 8,
   "metadata": {},
   "outputs": [
    {
     "name": "stdout",
     "output_type": "stream",
     "text": [
      "5\n",
      "3\n",
      "2\n",
      "1\n",
      "1\n",
      "5\n",
      "1\n",
      "2\n",
      "3\n",
      "5\n",
      "\n"
     ]
    }
   ],
   "source": [
    "def insertion_sort(old_list):\n",
    "    n=len(old_list)\n",
    "    k=0\n",
    "    for i in range(1,n):\n",
    "        temp=old_list[i]\n",
    "        j=i\n",
    "        while j>0 and temp<old_list[j-1]:\n",
    "            old_list[j]=old_list[j-1]\n",
    "            j=j-1\n",
    "        old_list[j]=temp\n",
    "    \n",
    "    return old_list\n",
    "while True:\n",
    "    try:\n",
    "        num1 = int(input())\n",
    "        list1 = []\n",
    "        while(num1):\n",
    "            list1.append(int(input()))\n",
    "            num1-=1\n",
    "        list2 = insertion_sort(list(set(list1)))\n",
    "        for j in list2:\n",
    "            print(j)\n",
    "    except:\n",
    "        break"
   ]
  },
  {
   "cell_type": "code",
   "execution_count": 1,
   "metadata": {},
   "outputs": [
    {
     "name": "stdout",
     "output_type": "stream",
     "text": [
      "11 10 20 40 32 67 40 20 89 300 400 15\n"
     ]
    }
   ],
   "source": [
    "import sys\n",
    "while True:\n",
    "    try:\n",
    "        num=input()\n",
    "        num_list=[]\n",
    "        for i in range(num):\n",
    "            input_num=sys.stdin.readline()\n",
    "            print(i)\n",
    "            num_list.append(int(input_num[:-1]))\n",
    "        num_list=sorted(list(set(num_list)))\n",
    "        for i in num_list:\n",
    "            print(i)\n",
    "    except:\n",
    "        break"
   ]
  },
  {
   "cell_type": "code",
   "execution_count": 5,
   "metadata": {},
   "outputs": [],
   "source": [
    "s = sys.stdin.readline()"
   ]
  },
  {
   "cell_type": "code",
   "execution_count": 6,
   "metadata": {},
   "outputs": [
    {
     "data": {
      "text/plain": [
       "''"
      ]
     },
     "execution_count": 6,
     "metadata": {},
     "output_type": "execute_result"
    }
   ],
   "source": []
  },
  {
   "cell_type": "code",
   "execution_count": 3,
   "metadata": {},
   "outputs": [],
   "source": []
  },
  {
   "cell_type": "code",
   "execution_count": 4,
   "metadata": {},
   "outputs": [],
   "source": []
  },
  {
   "cell_type": "code",
   "execution_count": null,
   "metadata": {},
   "outputs": [],
   "source": []
  },
  {
   "cell_type": "code",
   "execution_count": null,
   "metadata": {},
   "outputs": [],
   "source": []
  }
 ],
 "metadata": {
  "kernelspec": {
   "display_name": "Python 3",
   "language": "python",
   "name": "python3"
  },
  "language_info": {
   "codemirror_mode": {
    "name": "ipython",
    "version": 3
   },
   "file_extension": ".py",
   "mimetype": "text/x-python",
   "name": "python",
   "nbconvert_exporter": "python",
   "pygments_lexer": "ipython3",
   "version": "3.6.5"
  }
 },
 "nbformat": 4,
 "nbformat_minor": 2
}
